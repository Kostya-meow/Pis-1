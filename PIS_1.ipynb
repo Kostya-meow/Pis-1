{
  "nbformat": 4,
  "nbformat_minor": 0,
  "metadata": {
    "colab": {
      "name": "PIS-1.ipynb",
      "provenance": [],
      "collapsed_sections": []
    },
    "kernelspec": {
      "name": "python3",
      "display_name": "Python 3"
    }
  },
  "cells": [
    {
      "cell_type": "markdown",
      "metadata": {
        "id": "lugvN2UOLDX7"
      },
      "source": [
        "Кожин Константин Дмитриевич КИ19-24б\r\n"
      ]
    },
    {
      "cell_type": "code",
      "metadata": {
        "id": "z_pgz--tK48Q"
      },
      "source": [
        "print(\"Hello, world\")"
      ],
      "execution_count": null,
      "outputs": []
    }
  ]
}